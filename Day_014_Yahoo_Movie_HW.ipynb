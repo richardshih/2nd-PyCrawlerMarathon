{
 "cells": [
  {
   "cell_type": "markdown",
   "metadata": {},
   "source": [
    "# YAHOO電影爬蟲練習\n",
    "## 練習爬取電影放映資訊。必須逐步獲取電影的代號、放映地區、放映日期後，再送出查詢給伺服器。"
   ]
  },
  {
   "cell_type": "code",
   "execution_count": 1,
   "metadata": {},
   "outputs": [],
   "source": [
    "import requests\n",
    "import re\n",
    "from bs4 import BeautifulSoup"
   ]
  },
  {
   "cell_type": "markdown",
   "metadata": {},
   "source": [
    "### 先搜尋全部的電影代號(ID)資訊"
   ]
  },
  {
   "cell_type": "code",
   "execution_count": 2,
   "metadata": {},
   "outputs": [
    {
     "name": "stdout",
     "output_type": "stream",
     "text": [
      "Movie: 侏羅紀世界：殞落國度, ID: 10595\n",
      "Movie: 阿飛正傳, ID: 10593\n",
      "Movie: 在黑暗中漫舞：20週年數位修復版, ID: 10590\n",
      "Movie: 拾光人生, ID: 10581\n",
      "Movie: 羊男的迷宮, ID: 10580\n",
      "Movie: 冤鴦大盜, ID: 10573\n",
      "Movie: 馬丁伊登, ID: 10569\n",
      "Movie: 火口的二人, ID: 10555\n",
      "Movie: 犬鳴村, ID: 10543\n",
      "Movie: 間諜速成班, ID: 10538\n",
      "Movie: 我的英雄學院劇場版：英雄新世紀, ID: 10481\n",
      "Movie: 魔髮精靈唱遊世界, ID: 10466\n",
      "Movie: 小魔花, ID: 10068\n",
      "Movie: 東京喰種S, ID: 10562\n",
      "Movie: 我的學生都是配樂大師, ID: 10557\n",
      "Movie: 我們的家不是我們的家, ID: 10556\n",
      "Movie: 奧斯卡配樂大師：亞歷山大戴斯培, ID: 10552\n",
      "Movie: 聲入奇境：經典配樂大師, ID: 10550\n",
      "Movie: 絕命直播, ID: 10548\n",
      "Movie: 託陰2：布拉姆回來了, ID: 10540\n",
      "Movie: 迷雁返家路, ID: 10533\n",
      "Movie: 無聲救援, ID: 10521\n",
      "Movie: 鏡中驚魂, ID: 10514\n",
      "Movie: 最初的晚餐, ID: 10510\n",
      "Movie: 抓住救命稻草的野獸們, ID: 10507\n",
      "Movie: 第六感生死戀, ID: 10504\n",
      "Movie: Re從零開始的異世界生活 外傳集, ID: 10480\n",
      "Movie: 記憶屋, ID: 10470\n",
      "Movie: 不愛鋼琴師, ID: 10542\n",
      "Movie: 神之一手：鬼手篇, ID: 10520\n",
      "Movie: A+瞎妹, ID: 10508\n",
      "Movie: 搖滾師匠：細野晴臣, ID: 10502\n",
      "Movie: 最後晚安曲, ID: 10499\n",
      "Movie: 我出去醫下, ID: 10494\n",
      "Movie: 依然相信, ID: 10487\n",
      "Movie: 刺激1995, ID: 10518\n",
      "Movie: 通靈少年2020, ID: 10517\n",
      "Movie: 南山的部長們, ID: 10509\n",
      "Movie: 另類神父, ID: 10500\n",
      "Movie: 劇場版 不起眼女主角培育法 Fine, ID: 10486\n",
      "Movie: 練愛iNG, ID: 10442\n",
      "Movie: 鋼鐵勳章, ID: 10432\n",
      "Movie: 血衛, ID: 10469\n",
      "Movie: 導演先生的完美假期, ID: 10545\n",
      "Movie: 狂飆一夢, ID: 10506\n",
      "Movie: 大畫特務, ID: 10478\n",
      "Movie: 明明會說話, ID: 10440\n",
      "Movie: 鳴鳥不飛：烏雲密布, ID: 10458\n",
      "Movie: 女鬼橋, ID: 10437\n",
      "Movie: 怨咒, ID: 10421\n",
      "Movie: 極地守護犬, ID: 10383\n",
      "Movie: 隱形人, ID: 10359\n",
      "Movie: 絕命大平台, ID: 10447\n",
      "Movie: 音速小子, ID: 9246\n",
      "Movie: 超＂人＂氣動物園, ID: 10445\n",
      "Movie: 我的寶貝男孩, ID: 10489\n",
      "Movie: 王牌辯士, ID: 10346\n",
      "Movie: 1917, ID: 10189\n",
      "Movie: 肥龍過江, ID: 10449\n",
      "Movie: 深海終劫站, ID: 10230\n",
      "Movie: 變身特務, ID: 9008\n",
      "Movie: 巧虎電影：英雄遊樂園, ID: 10429\n",
      "Movie: 不完美的正義, ID: 10243\n",
      "Movie: 絕地戰警FOR LIFE, ID: 10242\n",
      "Movie: 星星知我心, ID: 10409\n",
      "Movie: 逃出天堂島, ID: 10384\n",
      "Movie: 真愛裁會贏, ID: 10362\n",
      "Movie: 兔嘲男孩, ID: 10283\n",
      "Movie: CATS貓, ID: 10166\n",
      "Movie: 燃燒女子的畫像, ID: 10069\n",
      "Movie: 葉問4：完結篇, ID: 9890\n",
      "Movie: 去年聖誕節, ID: 10256\n",
      "Movie: 野蠻遊戲：全面晉級, ID: 10134\n",
      "Movie: 賽道狂人, ID: 10097\n",
      "Movie: 冰雪奇緣2, ID: 9597\n",
      "Movie: 萬萬沒想到, ID: 10281\n",
      "Movie: 不可能的任務：全面瓦解, ID: 7767\n",
      "Movie: 一首搖滾上月球, ID: 4887\n",
      "Movie: 錢不夠用2, ID: 3026\n"
     ]
    }
   ],
   "source": [
    "# 查看目前上映那些電影，並擷取出其ID資訊\n",
    "url = 'https://movies.yahoo.com.tw/'\n",
    "resp = requests.get(url)\n",
    "resp.encoding = 'utf-8'\n",
    "\n",
    "soup = BeautifulSoup(resp.text, 'lxml')\n",
    "html = soup.find(\"select\", attrs={'name':'movie_id'})\n",
    "movie_item = html.find_all(\"option\", attrs={'data-name':re.compile('.*')})\n",
    "\n",
    "for p in movie_item:\n",
    "    print(\"Movie: %s, ID: %s\" % (p[\"data-name\"], p[\"value\"]))"
   ]
  },
  {
   "cell_type": "markdown",
   "metadata": {},
   "source": [
    "### 指定你有興趣的電影其ID，然後查詢其放映地區資訊。"
   ]
  },
  {
   "cell_type": "code",
   "execution_count": 3,
   "metadata": {},
   "outputs": [],
   "source": [
    "# 參考前一個步驟中擷取到的ID資訊，並指定ID\n",
    "movie_id = 10481"
   ]
  },
  {
   "cell_type": "code",
   "execution_count": 4,
   "metadata": {},
   "outputs": [
    {
     "name": "stdout",
     "output_type": "stream",
     "text": [
      "放映地區: 台北市, 代號(area_id): 28\n",
      "放映地區: 新北市, 代號(area_id): 8\n",
      "放映地區: 桃園, 代號(area_id): 16\n",
      "放映地區: 新竹, 代號(area_id): 20\n",
      "放映地區: 苗栗, 代號(area_id): 15\n",
      "放映地區: 台中, 代號(area_id): 2\n",
      "放映地區: 南投, 代號(area_id): 13\n",
      "放映地區: 雲林, 代號(area_id): 19\n",
      "放映地區: 嘉義, 代號(area_id): 21\n",
      "放映地區: 台南, 代號(area_id): 10\n",
      "放映地區: 高雄, 代號(area_id): 17\n",
      "放映地區: 屏東, 代號(area_id): 14\n",
      "放映地區: 宜蘭, 代號(area_id): 11\n",
      "放映地區: 花蓮, 代號(area_id): 12\n",
      "放映地區: 金門, 代號(area_id): 24\n",
      "放映地區: 澎湖, 代號(area_id): 23\n"
     ]
    }
   ],
   "source": [
    "url = 'https://movies.yahoo.com.tw/api/v1/areas_by_movie_theater'\n",
    "payload = {'movie_id':str(movie_id)}\n",
    "\n",
    "# 模擬一個header\n",
    "headers = {\n",
    "    'authority': 'movies.yahoo.com.tw',\n",
    "    'method': 'GET',\n",
    "    'path': '/api/v1/areas_by_movie_theater?movie_id=' + str(movie_id),\n",
    "    'scheme': 'https',\n",
    "    'accept': 'application/json, text/javascript, */*; q=0.01',\n",
    "    'accept-encoding': 'gzip, deflate, br',\n",
    "    'accept-language': 'zh-TW,zh;q=0.9,en-US;q=0.8,en;q=0.7,zh-CN;q=0.6',\n",
    "    'cookie': 'rxx=9s3x2fws06.1g16irnc&v=1; _ga=GA1.3.2056742944.1551651301; GUC=AQEBAQFczFpdm0IfmwSB&s=AQAAACoo4N5D&g=XMsVBw; BX=4hkdk1decm57t&b=3&s=mr; _ga=GA1.4.2056742944.1551651301; nexagesuid=82843256dd234e8e91aa73f2062f8218; browsed_movie=eyJpdiI6IlJXWWtiSWJaZlNGK2MxQnhscnVUYWc9PSIsInZhbHVlIjoiMXRhMmVHRXRIeUNjc1RBWDJzdGYwbnlIQURmWGsrcjJSMzhkbkcraDNJVUNIZEZsbzU3amlFcVZ1NzlmazJrTGpoMjVrbHk1YmpoRENXaHZTOUw1TmI2ZTZVWHdOejZQZm16RmVuMWlHTTJLaTZLVFZZVkFOMDlTd1wvSGltcytJIiwibWFjIjoiZWQ2ZjA4MmVjZmZlYjlmNjJmYmY2NGMyMDI0Njc0NWViYjVkOWE2NDg0N2RhODMxZjBjZDhiMmJhZTc2MDZhYiJ9; avi=eyJpdiI6Im1NeWFJRlVRWDR1endEcGRGUGJUbVE9PSIsInZhbHVlIjoickRpU3JuUytmcGl6cjF5OW0rNU9iZz09IiwibWFjIjoiY2VmY2NkNzZmM2NhNjY5YzlkOTcyNjE5OGEyMzU0NWYxOTdmMDRkMDY3OWNmMmZjOTMxYjc5MjI5N2Q5NGE5MiJ9; cmp=t=1559391030&j=0; _gid=GA1.4.779543841.1559391031; XSRF-TOKEN=eyJpdiI6IkhpS2hGcDRQaHlmWUJmaHdSS2Q2bHc9PSIsInZhbHVlIjoiOUVoNFk4OHI1UUZmUWRtYXhza0MyWjJSTlhlZ3RnT0VGeVJPN2JuczVRMGRFdWt2OUlsamVKeHRobFwvcHBGM0dhU3VyMXNGTHlsb2dVM2l0U1hpUGxBPT0iLCJtYWMiOiJkZWU4YzJhNjAxMTY3MzE4Y2ExNWIxYmE1ZjE1YWZlZTlhOTcyYjc4M2RlZGY4ZWNjZDYyMTA2NGYwZGViMzc2In0%3D; m_s=eyJpdiI6InpsZHZ2Tk1BZ0dxaHhETml1RjBnUXc9PSIsInZhbHVlIjoiSkNGeHUranRoXC85bDFiaDhySTJqNkJRcWdjWUxjeVRJSHVYZ1wvd2d4bWJZUTUrSHVDM0lUcW5KNHdETFZ4T1lieU81OUhzc1VoUXhZcWk0UDZSQXVFdz09IiwibWFjIjoiYmJkMDJkMDhlODIzMzcyMWY4M2NmYWNjNGVlOWRjMDIwZmVmNzAyMjE3Yzg3ZGY3ODBkZWEzZTI4MTI5ZWNmOSJ9; _gat=1; nexagesd=10',\n",
    "    'dnt': '1',\n",
    "    'mv-authorization': '21835b082e15b91a69b3851eec7b31b82ce82afb',\n",
    "    'referer': 'https://movies.yahoo.com.tw/',\n",
    "    'user-agent': 'Mozilla/5.0 (Windows NT 10.0; Win64; x64) AppleWebKit/537.36 (KHTML, like Gecko) Chrome/74.0.3729.169 Safari/537.36',\n",
    "    'x-requested-with': 'XMLHttpRequest',\n",
    "}\n",
    "    \n",
    "resp = requests.get(url, params=payload, headers=headers)\n",
    "#print(resp.json())  # 若有需要，列印出json原始碼\n",
    "\n",
    "# 這裡回傳的格式是JSON格式的資料，要解析JSON擷取資料\n",
    "for p in resp.json():\n",
    "    print('放映地區: {0}, 代號(area_id): {1}'.format(p['title'], p['area_id']))"
   ]
  },
  {
   "cell_type": "markdown",
   "metadata": {},
   "source": [
    "### 指定你想要觀看的放映地區，查詢有上映電影的場次日期"
   ]
  },
  {
   "cell_type": "code",
   "execution_count": 5,
   "metadata": {},
   "outputs": [],
   "source": [
    "# 指定放映地區\n",
    "area_id = 28"
   ]
  },
  {
   "cell_type": "code",
   "execution_count": 6,
   "metadata": {},
   "outputs": [
    {
     "name": "stdout",
     "output_type": "stream",
     "text": [
      "四月 7\n",
      "四月 8\n",
      "四月 9\n",
      "四月 10\n",
      "四月 11\n"
     ]
    }
   ],
   "source": [
    "# 向網站發送請求\n",
    "url = 'https://movies.yahoo.com.tw/movietime_result.html'\n",
    "payload = {'movie_id':str(movie_id), 'area_id':str(area_id)}\n",
    "resp = requests.get(url, params=payload)\n",
    "resp.encoding = 'utf-8'\n",
    "\n",
    "soup = BeautifulSoup(resp.text, 'lxml')\n",
    "movie_date = soup.find_all(\"label\", attrs={'for':re.compile(\"date_[\\d]\")})\n",
    "\n",
    "# 列印播放日期\n",
    "for date in movie_date:\n",
    "    print(\"%s %s\" % (date.p.string, date.h3.string))"
   ]
  },
  {
   "cell_type": "markdown",
   "metadata": {},
   "source": [
    "### 最後指定觀看的日期，查詢並列印出放映的電影院、放映類型(數位、3D、IMAX 3D...)、放映時間等資訊。"
   ]
  },
  {
   "cell_type": "code",
   "execution_count": 7,
   "metadata": {},
   "outputs": [],
   "source": [
    "# 選定要觀看的日期\n",
    "date = \"2020-04-08\""
   ]
  },
  {
   "cell_type": "code",
   "execution_count": 8,
   "metadata": {},
   "outputs": [],
   "source": [
    "# 向網站發送請求，獲取上映的電影院及時間資訊\n",
    "url = \"https://movies.yahoo.com.tw/ajax/pc/get_schedule_by_movie\"\n",
    "payload = {'movie_id':str(movie_id),\n",
    "           'date':date,\n",
    "           'area_id':str(area_id),\n",
    "           'theater_id':'',\n",
    "           'datetime':'',\n",
    "           'movie_type_id':''}\n",
    "\n",
    "resp = requests.get(url, params=payload)\n",
    "#print(resp.json()['view'])  # 若有需要，列印出json原始碼\n",
    "\n",
    "soup = BeautifulSoup(resp.json()['view'], 'lxml')\n",
    "html = soup.find_all(\"ul\", attrs={'data-theater_name':re.compile(\".*\")})"
   ]
  },
  {
   "cell_type": "code",
   "execution_count": 9,
   "metadata": {},
   "outputs": [
    {
     "name": "stdout",
     "output_type": "stream",
     "text": [
      "----------------------------------------------------------------------\n",
      "電影院:  台北美麗華大直影城\n",
      "放映類型:  數位\n",
      "2020-04-08 14:20:00\n",
      "2020-04-08 19:10:00\n",
      "2020-04-08 22:40:00\n",
      "----------------------------------------------------------------------\n",
      "電影院:  台北in89豪華數位影城\n",
      "放映類型:  數位\n",
      "2020-04-08 12:00:00\n",
      "2020-04-08 16:30:00\n",
      "2020-04-08 18:30:00\n",
      "2020-04-08 20:30:00\n",
      "----------------------------------------------------------------------\n",
      "電影院:  台北日新威秀影城\n",
      "放映類型:  數位\n",
      "2020-04-08 14:30:00\n",
      "2020-04-08 16:30:00\n",
      "2020-04-08 18:30:00\n",
      "2020-04-08 20:25:00\n",
      "----------------------------------------------------------------------\n",
      "電影院:  喜滿客絕色影城\n",
      "放映類型:  數位\n",
      "2020-04-08 14:55:00\n",
      "2020-04-08 18:55:00\n",
      "----------------------------------------------------------------------\n",
      "電影院:  台北信義威秀影城\n",
      "放映類型:  數位\n",
      "2020-04-08 11:15:00\n",
      "2020-04-08 13:20:00\n",
      "2020-04-08 15:25:00\n",
      "2020-04-08 17:30:00\n",
      "2020-04-08 19:35:00\n",
      "2020-04-08 21:40:00\n",
      "----------------------------------------------------------------------\n",
      "電影院:  京站威秀影城\n",
      "放映類型:  數位\n",
      "2020-04-08 11:20:00\n",
      "2020-04-08 13:20:00\n",
      "2020-04-08 15:20:00\n",
      "2020-04-08 17:25:00\n",
      "2020-04-08 19:25:00\n",
      "----------------------------------------------------------------------\n",
      "電影院:  喜樂時代影城南港店\n",
      "放映類型:  數位\n",
      "2020-04-08 13:35:00\n",
      "2020-04-08 18:10:00\n",
      "----------------------------------------------------------------------\n",
      "電影院:  MUVIE CINEMAS台北松仁威秀\n",
      "放映類型:  數位\n",
      "2020-04-08 14:50:00\n",
      "2020-04-08 16:50:00\n",
      "2020-04-08 18:50:00\n",
      "2020-04-08 20:50:00\n"
     ]
    }
   ],
   "source": [
    "for movie_theater in html:\n",
    "    print(\"----------------------------------------------------------------------\")\n",
    "    \n",
    "    theater_name = movie_theater.find(\"li\", attrs={'class':'adds'})\n",
    "    print(\"電影院: \", theater_name.a.string)\n",
    "\n",
    "    project_type = movie_theater.find_all(\"li\", attrs={'class':'taps'})  # 定位放映類型\n",
    "        \n",
    "    time_table = movie_theater.find_all(\"li\", attrs={'class':'time _c'})  # 定位時間表\n",
    "        \n",
    "    for i in range(len(project_type)):\n",
    "        print(\"放映類型: \", project_type[i].span.get_text())  # 印出電影類型\n",
    "        \n",
    "        for p4 in time_table[i].find_all(\"input\", attrs={'name':'schedule_list'}):\n",
    "            print(\"%s\" % (p4[\"value\"]))  # 印出放映時間"
   ]
  },
  {
   "cell_type": "code",
   "execution_count": null,
   "metadata": {},
   "outputs": [],
   "source": []
  }
 ],
 "metadata": {
  "kernelspec": {
   "display_name": "Python 3",
   "language": "python",
   "name": "python3"
  },
  "language_info": {
   "codemirror_mode": {
    "name": "ipython",
    "version": 3
   },
   "file_extension": ".py",
   "mimetype": "text/x-python",
   "name": "python",
   "nbconvert_exporter": "python",
   "pygments_lexer": "ipython3",
   "version": "3.6.4"
  }
 },
 "nbformat": 4,
 "nbformat_minor": 2
}
