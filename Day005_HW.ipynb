{
 "cells": [
  {
   "cell_type": "markdown",
   "metadata": {},
   "source": [
    "# API 資料串接 - 以 Dcard API 實作範例\n",
    "\n",
    "* 了解 Dcard API 使用方式與回傳內容\n",
    "* 撰寫程式存取 API 且解析 JSON 格式資料\n"
   ]
  },
  {
   "cell_type": "markdown",
   "metadata": {},
   "source": [
    "## 作業目標\n",
    "\n",
    "* 請利用 API: https://www.dcard.tw/_api/forums/pet/posts?popular=true 回答下列問題：\n",
    "\n",
    "1. 這個 API 一次會回傳幾筆資料？每一筆資料包含哪些欄位？\n",
    "2. 取出每一筆資料的「標題」、「貼文時間」、「留言人數」、「按讚人數」\n",
    "3. 計算熱門/非熱門文章的「平均留言人數」與「平均按讚人數」"
   ]
  },
  {
   "cell_type": "code",
   "execution_count": 1,
   "metadata": {},
   "outputs": [
    {
     "data": {
      "text/plain": [
       "30"
      ]
     },
     "execution_count": 1,
     "metadata": {},
     "output_type": "execute_result"
    }
   ],
   "source": [
    "# 1. 這個 API 一次會回傳幾筆資料？每一筆資料包含哪些欄位？\n",
    "import requests\n",
    "r = requests.get('https://www.dcard.tw/_api/forums/pet/posts?popular=true')\n",
    "response = r.text\n",
    "\n",
    "response\n",
    "\n",
    "import json\n",
    "data = json.loads(response)\n",
    "len(data)"
   ]
  },
  {
   "cell_type": "code",
   "execution_count": 2,
   "metadata": {},
   "outputs": [
    {
     "name": "stdout",
     "output_type": "stream",
     "text": [
      "海科大虐狗的金同學\n",
      "2020-03-24T05:37:24.797Z\n",
      "46\n",
      "448\n",
      "我家貓的睡姿\n",
      "2020-03-23T21:55:37.808Z\n",
      "12\n",
      "203\n",
      "我家有一隻小豬\n",
      "2020-03-24T06:26:34.064Z\n",
      "11\n",
      "109\n",
      "我的哈姆太郎🐹 啪兔\n",
      "2020-03-24T06:07:12.629Z\n",
      "4\n",
      "39\n",
      "小黑貓求包養這麼難嗎？\n",
      "2020-03-24T08:49:20.786Z\n",
      "8\n",
      "27\n",
      "偽裝成貓咪的👶🏻\n",
      "2020-03-24T07:31:09.464Z\n",
      "1\n",
      "26\n",
      "尋找主人！被丟包的法鬥在等你\n",
      "2020-03-24T11:48:45.000Z\n",
      "0\n",
      "25\n",
      "流浪貓的爸爸\n",
      "2020-03-24T12:44:01.479Z\n",
      "3\n",
      "22\n",
      "饅頭手\n",
      "2020-03-25T00:15:25.123Z\n",
      "3\n",
      "17\n",
      "生活小樂趣🤪\n",
      "2020-03-24T16:46:16.372Z\n",
      "1\n",
      "17\n",
      "可愛可恨的米克斯❤️#圖\n",
      "2020-03-25T01:56:16.504Z\n",
      "11\n",
      "16\n",
      "求這隻貓的哀居\n",
      "2020-03-25T00:35:47.236Z\n",
      "2\n",
      "16\n",
      "每天都想讓我早點回家的原因🥰\n",
      "2020-03-24T17:48:26.325Z\n",
      "1\n",
      "14\n",
      "燒飯，加油\n",
      "2020-03-25T05:20:18.528Z\n",
      "2\n",
      "12\n",
      "哈姆太郎日常生活🐹\n",
      "2020-03-24T17:15:10.042Z\n",
      "0\n",
      "9\n",
      "請問這是什麼烏龜\n",
      "2020-03-24T14:23:57.577Z\n",
      "8\n",
      "9\n",
      "今天是International Chinchilla Day\n",
      "2020-03-24T03:21:34.281Z\n",
      "3\n",
      "9\n",
      "你家球蟒也便秘嗎？來！ 我教你\n",
      "2020-03-25T01:55:20.252Z\n",
      "3\n",
      "8\n",
      "#圖，我是三腳，我生病了（文長）\n",
      "2020-03-24T13:27:56.968Z\n",
      "2\n",
      "8\n",
      "#圖多 戲精貓的小時候 走經就開始厭世\n",
      "2020-03-24T12:57:19.912Z\n",
      "1\n",
      "8\n",
      "花橘子-2\n",
      "2020-03-24T12:01:45.483Z\n",
      "0\n",
      "8\n",
      "過動貓帶頭套的日常#圖多\n",
      "2020-03-24T03:34:17.131Z\n",
      "2\n",
      "8\n",
      "現在知道為什麼要搶購衛生紙了⋯\n",
      "2020-03-24T15:39:42.487Z\n",
      "4\n",
      "7\n",
      "有需要這樣嗎...\n",
      "2020-03-24T15:09:15.620Z\n",
      "0\n",
      "7\n",
      "狗改不了吃屎\n",
      "2020-03-24T12:28:57.329Z\n",
      "3\n",
      "7\n",
      "文鳥\n",
      "2020-03-25T03:20:34.469Z\n",
      "4\n",
      "6\n",
      "要不要回家了（懶狗影片）\n",
      "2020-03-24T16:34:59.647Z\n",
      "0\n",
      "6\n",
      "從湯圓變饅頭的故事\n",
      "2020-03-25T07:11:49.910Z\n",
      "0\n",
      "5\n",
      "是不是該學學美姿美儀呢：）\n",
      "2020-03-24T16:09:10.570Z\n",
      "0\n",
      "5\n",
      "龍貓日常\n",
      "2020-03-24T16:53:02.569Z\n",
      "3\n",
      "4\n"
     ]
    }
   ],
   "source": [
    "# 2. 取出每一筆資料的「標題」、「貼文時間」、「留言人數」、「按讚人數」\n",
    "for d in data:\n",
    "    print(d['title'])\n",
    "    print(d['createdAt'])\n",
    "    print(d['commentCount'])\n",
    "    print(d['likeCount'])"
   ]
  },
  {
   "cell_type": "code",
   "execution_count": 4,
   "metadata": {},
   "outputs": [
    {
     "name": "stdout",
     "output_type": "stream",
     "text": [
      "熱門 平均留言數: 4.6 平均按讚數: 36.833333333333336\n",
      "非熱門 平均留言數: 2.2333333333333334 平均按讚數: 2.3666666666666667\n"
     ]
    }
   ],
   "source": [
    "# 3. 計算熱門/非熱門文章的「平均留言人數」與「平均按讚人數」\n",
    "\n",
    "commentCount = 0\n",
    "likeCount = 0\n",
    "for d in data:\n",
    "    commentCount += d['commentCount']\n",
    "    likeCount += d['likeCount']\n",
    "\n",
    "print('熱門','平均留言數:',commentCount/len(data),  '平均按讚數:',likeCount/len(data))\n",
    "\n",
    "r = requests.get('https://www.dcard.tw/_api/forums/job/posts?popular=false')\n",
    "response = r.text\n",
    "data2 = json.loads(response)\n",
    "commentCount = 0\n",
    "likeCount = 0\n",
    "for d in data2:\n",
    "    commentCount += d['commentCount']\n",
    "    likeCount += d['likeCount']\n",
    "\n",
    "print('非熱門','平均留言數:',commentCount/len(data2),  '平均按讚數:',likeCount/len(data2))"
   ]
  }
 ],
 "metadata": {
  "kernelspec": {
   "display_name": "Python 3",
   "language": "python",
   "name": "python3"
  },
  "language_info": {
   "codemirror_mode": {
    "name": "ipython",
    "version": 3
   },
   "file_extension": ".py",
   "mimetype": "text/x-python",
   "name": "python",
   "nbconvert_exporter": "python",
   "pygments_lexer": "ipython3",
   "version": "3.6.4"
  }
 },
 "nbformat": 4,
 "nbformat_minor": 2
}
