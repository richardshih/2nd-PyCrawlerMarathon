{
 "cells": [
  {
   "cell_type": "markdown",
   "metadata": {},
   "source": [
    "# 空氣污染監測網 網路爬蟲實作練習\n",
    "\n",
    "\n",
    "* 能夠利用 selenium + BeautifulSoup 撰寫爬蟲，並存放到合適的資料結構\n"
   ]
  },
  {
   "cell_type": "markdown",
   "metadata": {},
   "source": [
    "## 作業目標\n",
    "\n",
    "根據範例 ，完成以下問題：\n",
    "\n",
    "* ① 取出 台北市士林區 2018/01 – 2018/08 的 SO2 資料\n",
    "* ② 取出 台北市士林區 2018/01 – 2018/08 的 SO2、CO 資料\n",
    "\n",
    "\n",
    "\n"
   ]
  },
  {
   "cell_type": "markdown",
   "metadata": {},
   "source": [
    "### ① 取出 台北市士林區 2018/01 – 2018/08 的 SO2 資料"
   ]
  },
  {
   "cell_type": "code",
   "execution_count": 1,
   "metadata": {},
   "outputs": [],
   "source": [
    "from selenium import webdriver\n",
    "from selenium.webdriver.support.ui import Select\n",
    "from bs4 import BeautifulSoup\n",
    "from time import sleep\n",
    "import pandas as pd\n",
    "import time"
   ]
  },
  {
   "cell_type": "code",
   "execution_count": 2,
   "metadata": {},
   "outputs": [
    {
     "name": "stderr",
     "output_type": "stream",
     "text": [
      "C:\\Users\\06006760\\AppData\\Local\\Continuum\\anaconda3\\lib\\site-packages\\bs4\\__init__.py:181: UserWarning: No parser was explicitly specified, so I'm using the best available HTML parser for this system (\"lxml\"). This usually isn't a problem, but if you run this code on another system, or in a different virtual environment, it may use a different parser and behave differently.\n",
      "\n",
      "The code that caused this warning is on line 193 of the file C:\\Users\\06006760\\AppData\\Local\\Continuum\\anaconda3\\lib\\runpy.py. To get rid of this warning, change code that looks like this:\n",
      "\n",
      " BeautifulSoup(YOUR_MARKUP})\n",
      "\n",
      "to this:\n",
      "\n",
      " BeautifulSoup(YOUR_MARKUP, \"lxml\")\n",
      "\n",
      "  markup_type=markup_type))\n"
     ]
    },
    {
     "name": "stdout",
     "output_type": "stream",
     "text": [
      "2018/01\n",
      "2018/02\n",
      "2018/03\n",
      "2018/04\n",
      "2018/05\n",
      "2018/06\n",
      "2018/07\n",
      "2018/08\n"
     ]
    },
    {
     "data": {
      "text/html": [
       "<div>\n",
       "<style scoped>\n",
       "    .dataframe tbody tr th:only-of-type {\n",
       "        vertical-align: middle;\n",
       "    }\n",
       "\n",
       "    .dataframe tbody tr th {\n",
       "        vertical-align: top;\n",
       "    }\n",
       "\n",
       "    .dataframe thead th {\n",
       "        text-align: right;\n",
       "    }\n",
       "</style>\n",
       "<table border=\"1\" class=\"dataframe\">\n",
       "  <thead>\n",
       "    <tr style=\"text-align: right;\">\n",
       "      <th></th>\n",
       "      <th>2018/01</th>\n",
       "      <th>2018/02</th>\n",
       "      <th>2018/03</th>\n",
       "      <th>2018/04</th>\n",
       "      <th>2018/05</th>\n",
       "      <th>2018/06</th>\n",
       "      <th>2018/07</th>\n",
       "      <th>2018/08</th>\n",
       "    </tr>\n",
       "  </thead>\n",
       "  <tbody>\n",
       "    <tr>\n",
       "      <th>二氧化硫SO2(ppb)</th>\n",
       "      <td>1.8</td>\n",
       "      <td>1.9</td>\n",
       "      <td>2.2</td>\n",
       "      <td>2.3</td>\n",
       "      <td>3.1</td>\n",
       "      <td>2.7</td>\n",
       "      <td>2.2</td>\n",
       "      <td>2.4</td>\n",
       "    </tr>\n",
       "  </tbody>\n",
       "</table>\n",
       "</div>"
      ],
      "text/plain": [
       "             2018/01 2018/02 2018/03 2018/04 2018/05 2018/06 2018/07 2018/08\n",
       "二氧化硫SO2(ppb)     1.8     1.9     2.2     2.3     3.1     2.7     2.2     2.4"
      ]
     },
     "execution_count": 2,
     "metadata": {},
     "output_type": "execute_result"
    }
   ],
   "source": [
    "table_create={}\n",
    "browser = webdriver.Chrome(executable_path='chromedriver')\n",
    "browser.implicitly_wait(40)\n",
    "# print(browser.page_source)\n",
    "for mon in range(1,9):\n",
    "    browser.get(\"https://erdb.epa.gov.tw/DataRepository/EnvMonitor/AirQualityMonitorMonData.aspx?topic1=%E5%A4%A7%E6%B0%A3&topic2=%E7%92%B0%E5%A2%83%E5%8F%8A%E7%94%9F%E6%85%8B%E7%9B%A3%E6%B8%AC&subject=%E7%A9%BA%E6%B0%A3%E5%93%81%E8%B3%AA\")\n",
    "    name=[]\n",
    "    num=[]\n",
    "    time1=Select(browser.find_element_by_id(\"ctl00_ContentPlaceHolder1_ucSearchCondition_ddlYearE\"))\n",
    "    time1.select_by_value(\"2018\")\n",
    "    m=Select(browser.find_element_by_id(\"ctl00_ContentPlaceHolder1_ucSearchCondition_ddlMonthE\"))  \n",
    "    c_mon=\"0\"+str(mon)\n",
    "    m.select_by_value(c_mon)\n",
    "    browser.find_element_by_id(\"ctl00_ContentPlaceHolder1_imgSearch\").click()\n",
    "    browser.implicitly_wait(20)\n",
    "    soup=BeautifulSoup(browser.page_source)\n",
    "    table=soup.find('table',class_=\"tbResult gvColspan\")\n",
    "    find_tr=table.find_all('tr')\n",
    "    num=find_tr[9].find_all('td',class_=\"IsNA\")\n",
    "    name=table.find_all('th',attrs={\"scope\":\"col\"})[3:4]\n",
    "    day=\"2018/\"+c_mon\n",
    "    print(day)\n",
    "    table_create[day]={}\n",
    "    for i in range(0,len(name)):\n",
    "        table_create[day][name[i].text]=num[i].text\n",
    "pd.DataFrame(table_create)"
   ]
  },
  {
   "cell_type": "markdown",
   "metadata": {},
   "source": [
    "### ② 取出 台北市士林區 2018/01 – 2018/08 的 SO2、CO 資料"
   ]
  },
  {
   "cell_type": "code",
   "execution_count": 3,
   "metadata": {},
   "outputs": [
    {
     "name": "stderr",
     "output_type": "stream",
     "text": [
      "C:\\Users\\06006760\\AppData\\Local\\Continuum\\anaconda3\\lib\\site-packages\\bs4\\__init__.py:181: UserWarning: No parser was explicitly specified, so I'm using the best available HTML parser for this system (\"lxml\"). This usually isn't a problem, but if you run this code on another system, or in a different virtual environment, it may use a different parser and behave differently.\n",
      "\n",
      "The code that caused this warning is on line 193 of the file C:\\Users\\06006760\\AppData\\Local\\Continuum\\anaconda3\\lib\\runpy.py. To get rid of this warning, change code that looks like this:\n",
      "\n",
      " BeautifulSoup(YOUR_MARKUP})\n",
      "\n",
      "to this:\n",
      "\n",
      " BeautifulSoup(YOUR_MARKUP, \"lxml\")\n",
      "\n",
      "  markup_type=markup_type))\n"
     ]
    },
    {
     "name": "stdout",
     "output_type": "stream",
     "text": [
      "2018/01\n",
      "2018/02\n",
      "2018/03\n",
      "2018/04\n",
      "2018/05\n",
      "2018/06\n",
      "2018/07\n",
      "2018/08\n"
     ]
    },
    {
     "data": {
      "text/html": [
       "<div>\n",
       "<style scoped>\n",
       "    .dataframe tbody tr th:only-of-type {\n",
       "        vertical-align: middle;\n",
       "    }\n",
       "\n",
       "    .dataframe tbody tr th {\n",
       "        vertical-align: top;\n",
       "    }\n",
       "\n",
       "    .dataframe thead th {\n",
       "        text-align: right;\n",
       "    }\n",
       "</style>\n",
       "<table border=\"1\" class=\"dataframe\">\n",
       "  <thead>\n",
       "    <tr style=\"text-align: right;\">\n",
       "      <th></th>\n",
       "      <th>2018/01</th>\n",
       "      <th>2018/02</th>\n",
       "      <th>2018/03</th>\n",
       "      <th>2018/04</th>\n",
       "      <th>2018/05</th>\n",
       "      <th>2018/06</th>\n",
       "      <th>2018/07</th>\n",
       "      <th>2018/08</th>\n",
       "    </tr>\n",
       "  </thead>\n",
       "  <tbody>\n",
       "    <tr>\n",
       "      <th>一氧化碳CO(ppm)</th>\n",
       "      <td>0.34</td>\n",
       "      <td>0.44</td>\n",
       "      <td>0.40</td>\n",
       "      <td>0.38</td>\n",
       "      <td>0.34</td>\n",
       "      <td>0.29</td>\n",
       "      <td>0.21</td>\n",
       "      <td>0.30</td>\n",
       "    </tr>\n",
       "    <tr>\n",
       "      <th>二氧化硫SO2(ppb)</th>\n",
       "      <td>1.8</td>\n",
       "      <td>1.9</td>\n",
       "      <td>2.2</td>\n",
       "      <td>2.3</td>\n",
       "      <td>3.1</td>\n",
       "      <td>2.7</td>\n",
       "      <td>2.2</td>\n",
       "      <td>2.4</td>\n",
       "    </tr>\n",
       "  </tbody>\n",
       "</table>\n",
       "</div>"
      ],
      "text/plain": [
       "             2018/01 2018/02 2018/03 2018/04 2018/05 2018/06 2018/07 2018/08\n",
       "一氧化碳CO(ppm)     0.34    0.44    0.40    0.38    0.34    0.29    0.21    0.30\n",
       "二氧化硫SO2(ppb)     1.8     1.9     2.2     2.3     3.1     2.7     2.2     2.4"
      ]
     },
     "execution_count": 3,
     "metadata": {},
     "output_type": "execute_result"
    }
   ],
   "source": [
    "table_create={}\n",
    "browser = webdriver.Chrome(executable_path='chromedriver')\n",
    "browser.implicitly_wait(40)\n",
    "# print(browser.page_source)\n",
    "for mon in range(1,9):\n",
    "    browser.get(\"https://erdb.epa.gov.tw/DataRepository/EnvMonitor/AirQualityMonitorMonData.aspx?topic1=%E5%A4%A7%E6%B0%A3&topic2=%E7%92%B0%E5%A2%83%E5%8F%8A%E7%94%9F%E6%85%8B%E7%9B%A3%E6%B8%AC&subject=%E7%A9%BA%E6%B0%A3%E5%93%81%E8%B3%AA\")\n",
    "    name=[]\n",
    "    num=[]\n",
    "    time1=Select(browser.find_element_by_id(\"ctl00_ContentPlaceHolder1_ucSearchCondition_ddlYearE\"))\n",
    "    time1.select_by_value(\"2018\")\n",
    "    m=Select(browser.find_element_by_id(\"ctl00_ContentPlaceHolder1_ucSearchCondition_ddlMonthE\"))  \n",
    "    c_mon=\"0\"+str(mon)\n",
    "    m.select_by_value(c_mon)\n",
    "    browser.find_element_by_id(\"ctl00_ContentPlaceHolder1_imgSearch\").click()\n",
    "    browser.implicitly_wait(20)\n",
    "    soup=BeautifulSoup(browser.page_source)\n",
    "    table=soup.find('table',class_=\"tbResult gvColspan\")\n",
    "    find_tr=table.find_all('tr')\n",
    "    num=find_tr[9].find_all('td',class_=\"IsNA\")\n",
    "    name=table.find_all('th',attrs={\"scope\":\"col\"})[3:5]\n",
    "    day=\"2018/\"+c_mon\n",
    "    print(day)\n",
    "    table_create[day]={}\n",
    "    for i in range(0,len(name)):\n",
    "        table_create[day][name[i].text]=num[i].text\n",
    "pd.DataFrame(table_create)"
   ]
  },
  {
   "cell_type": "code",
   "execution_count": 24,
   "metadata": {},
   "outputs": [
    {
     "name": "stdout",
     "output_type": "stream",
     "text": [
      "2018/01\n"
     ]
    },
    {
     "name": "stderr",
     "output_type": "stream",
     "text": [
      "C:\\Users\\06006760\\AppData\\Local\\Continuum\\anaconda3\\lib\\site-packages\\bs4\\__init__.py:181: UserWarning: No parser was explicitly specified, so I'm using the best available HTML parser for this system (\"lxml\"). This usually isn't a problem, but if you run this code on another system, or in a different virtual environment, it may use a different parser and behave differently.\n",
      "\n",
      "The code that caused this warning is on line 193 of the file C:\\Users\\06006760\\AppData\\Local\\Continuum\\anaconda3\\lib\\runpy.py. To get rid of this warning, change code that looks like this:\n",
      "\n",
      " BeautifulSoup(YOUR_MARKUP})\n",
      "\n",
      "to this:\n",
      "\n",
      " BeautifulSoup(YOUR_MARKUP, \"lxml\")\n",
      "\n",
      "  markup_type=markup_type))\n"
     ]
    },
    {
     "ename": "AttributeError",
     "evalue": "'list' object has no attribute 'text'",
     "output_type": "error",
     "traceback": [
      "\u001b[1;31m---------------------------------------------------------------------------\u001b[0m",
      "\u001b[1;31mAttributeError\u001b[0m                            Traceback (most recent call last)",
      "\u001b[1;32m<ipython-input-24-96039813f835>\u001b[0m in \u001b[0;36m<module>\u001b[1;34m()\u001b[0m\n\u001b[0;32m     26\u001b[0m     \u001b[0mprint\u001b[0m\u001b[1;33m(\u001b[0m\u001b[0mday\u001b[0m\u001b[1;33m)\u001b[0m\u001b[1;33m\u001b[0m\u001b[0m\n\u001b[0;32m     27\u001b[0m     \u001b[0mtable_create\u001b[0m\u001b[1;33m[\u001b[0m\u001b[0mday\u001b[0m\u001b[1;33m]\u001b[0m\u001b[1;33m=\u001b[0m\u001b[1;33m{\u001b[0m\u001b[1;33m}\u001b[0m\u001b[1;33m\u001b[0m\u001b[0m\n\u001b[1;32m---> 28\u001b[1;33m     \u001b[0mtable_create\u001b[0m\u001b[1;33m[\u001b[0m\u001b[0mday\u001b[0m\u001b[1;33m]\u001b[0m\u001b[1;33m[\u001b[0m\u001b[0mname\u001b[0m\u001b[1;33m.\u001b[0m\u001b[0mtext\u001b[0m\u001b[1;33m]\u001b[0m\u001b[1;33m=\u001b[0m\u001b[1;33m[\u001b[0m\u001b[0mnum\u001b[0m\u001b[1;33m.\u001b[0m\u001b[0mtext\u001b[0m\u001b[1;33m]\u001b[0m\u001b[1;33m\u001b[0m\u001b[0m\n\u001b[0m\u001b[0;32m     29\u001b[0m \u001b[0mpd\u001b[0m\u001b[1;33m.\u001b[0m\u001b[0mDataFrame\u001b[0m\u001b[1;33m(\u001b[0m\u001b[0mtable_create\u001b[0m\u001b[1;33m)\u001b[0m\u001b[1;33m\u001b[0m\u001b[0m\n",
      "\u001b[1;31mAttributeError\u001b[0m: 'list' object has no attribute 'text'"
     ]
    }
   ],
   "source": [
    "table_create={}\n",
    "browser = webdriver.Chrome(executable_path='chromedriver')\n",
    "browser.implicitly_wait(40)\n",
    "# print(browser.page_source)\n",
    "for mon in range(1,9):\n",
    "    browser.get(\"https://erdb.epa.gov.tw/DataRepository/EnvMonitor/AirQualityMonitorMonData.aspx?topic1=%E5%A4%A7%E6%B0%A3&topic2=%E7%92%B0%E5%A2%83%E5%8F%8A%E7%94%9F%E6%85%8B%E7%9B%A3%E6%B8%AC&subject=%E7%A9%BA%E6%B0%A3%E5%93%81%E8%B3%AA\")\n",
    "    name=[]\n",
    "    num=[]\n",
    "    time1=Select(browser.find_element_by_id(\"ctl00_ContentPlaceHolder1_ucSearchCondition_ddlYearE\"))\n",
    "    time1.select_by_value(\"2018\")\n",
    "    m=Select(browser.find_element_by_id(\"ctl00_ContentPlaceHolder1_ucSearchCondition_ddlMonthE\"))  \n",
    "    c_mon=\"0\"+str(mon)\n",
    "    m.select_by_value(c_mon)\n",
    "    browser.find_element_by_id(\"ctl00_ContentPlaceHolder1_imgSearch\").click()\n",
    "    browser.implicitly_wait(20)\n",
    "    soup=BeautifulSoup(browser.page_source)\n",
    "    table=soup.find('table',class_=\"tbResult gvColspan\")\n",
    "    find_tr=table.find_all('tr')\n",
    "    num1=find_tr[9].find_all('td',class_=\"IsNA\")[3:4]\n",
    "    num2=find_tr[9].find_all('td',class_=\"IsNA\")[8:9]\n",
    "    nameso2=table.find_all('th',attrs={\"scope\":\"col\"})[3:4]\n",
    "    namepm=table.find_all('th',attrs={\"scope\":\"col\"})[8:9]\n",
    "    num=num1+num2\n",
    "    name=nameso2+namepm\n",
    "    day=\"2018/\"+c_mon\n",
    "    print(day)\n",
    "    table_create[day]={}\n",
    "    table_create[day][name.text]=[num.text]\n",
    "pd.DataFrame(table_create)"
   ]
  },
  {
   "cell_type": "code",
   "execution_count": 22,
   "metadata": {},
   "outputs": [
    {
     "name": "stderr",
     "output_type": "stream",
     "text": [
      "C:\\Users\\06006760\\AppData\\Local\\Continuum\\anaconda3\\lib\\site-packages\\bs4\\__init__.py:181: UserWarning: No parser was explicitly specified, so I'm using the best available HTML parser for this system (\"lxml\"). This usually isn't a problem, but if you run this code on another system, or in a different virtual environment, it may use a different parser and behave differently.\n",
      "\n",
      "The code that caused this warning is on line 193 of the file C:\\Users\\06006760\\AppData\\Local\\Continuum\\anaconda3\\lib\\runpy.py. To get rid of this warning, change code that looks like this:\n",
      "\n",
      " BeautifulSoup(YOUR_MARKUP})\n",
      "\n",
      "to this:\n",
      "\n",
      " BeautifulSoup(YOUR_MARKUP, \"lxml\")\n",
      "\n",
      "  markup_type=markup_type))\n"
     ]
    },
    {
     "name": "stdout",
     "output_type": "stream",
     "text": [
      "[<td align=\"right\" class=\"IsNA\">1.8</td>, <td align=\"right\" class=\"IsNA\">9</td>]\n",
      "[<td align=\"right\" class=\"IsNA\">1.9</td>, <td align=\"right\" class=\"IsNA\">20</td>]\n",
      "[<td align=\"right\" class=\"IsNA\">2.2</td>, <td align=\"right\" class=\"IsNA\">19</td>]\n",
      "[<td align=\"right\" class=\"IsNA\">2.3</td>, <td align=\"right\" class=\"IsNA\">22</td>]\n",
      "[<td align=\"right\" class=\"IsNA\">3.1</td>, <td align=\"right\" class=\"IsNA\">20</td>]\n",
      "[<td align=\"right\" class=\"IsNA\">2.7</td>, <td align=\"right\" class=\"IsNA\">15</td>]\n",
      "[<td align=\"right\" class=\"IsNA\">2.2</td>, <td align=\"right\" class=\"IsNA\">12</td>]\n",
      "[<td align=\"right\" class=\"IsNA\">2.4</td>, <td align=\"right\" class=\"IsNA\">15</td>]\n"
     ]
    }
   ],
   "source": [
    "table_create={}\n",
    "browser = webdriver.Chrome(executable_path='chromedriver')\n",
    "browser.implicitly_wait(40)\n",
    "# print(browser.page_source)\n",
    "for mon in range(1,9):\n",
    "    browser.get(\"https://erdb.epa.gov.tw/DataRepository/EnvMonitor/AirQualityMonitorMonData.aspx?topic1=%E5%A4%A7%E6%B0%A3&topic2=%E7%92%B0%E5%A2%83%E5%8F%8A%E7%94%9F%E6%85%8B%E7%9B%A3%E6%B8%AC&subject=%E7%A9%BA%E6%B0%A3%E5%93%81%E8%B3%AA\")\n",
    "    name=[]\n",
    "    num=[]\n",
    "    time1=Select(browser.find_element_by_id(\"ctl00_ContentPlaceHolder1_ucSearchCondition_ddlYearE\"))\n",
    "    time1.select_by_value(\"2018\")\n",
    "    m=Select(browser.find_element_by_id(\"ctl00_ContentPlaceHolder1_ucSearchCondition_ddlMonthE\"))  \n",
    "    c_mon=\"0\"+str(mon)\n",
    "    m.select_by_value(c_mon)\n",
    "    browser.find_element_by_id(\"ctl00_ContentPlaceHolder1_imgSearch\").click()\n",
    "    browser.implicitly_wait(20)\n",
    "    soup=BeautifulSoup(browser.page_source)\n",
    "    table=soup.find('table',class_=\"tbResult gvColspan\")\n",
    "    find_tr=table.find_all('tr')\n",
    "    num1=find_tr[9].find_all('td',class_=\"IsNA\")[0:1]\n",
    "    num2=find_tr[9].find_all('td',class_=\"IsNA\")[5:6]\n",
    "    nameso2=table.find_all('th',attrs={\"scope\":\"col\"})[3:4]\n",
    "    namepm=table.find_all('th',attrs={\"scope\":\"col\"})[8:9]\n",
    "    num=num1+num2\n",
    "    print(num)"
   ]
  },
  {
   "cell_type": "code",
   "execution_count": null,
   "metadata": {},
   "outputs": [],
   "source": []
  }
 ],
 "metadata": {
  "kernelspec": {
   "display_name": "Python 3",
   "language": "python",
   "name": "python3"
  },
  "language_info": {
   "codemirror_mode": {
    "name": "ipython",
    "version": 3
   },
   "file_extension": ".py",
   "mimetype": "text/x-python",
   "name": "python",
   "nbconvert_exporter": "python",
   "pygments_lexer": "ipython3",
   "version": "3.6.4"
  }
 },
 "nbformat": 4,
 "nbformat_minor": 2
}
